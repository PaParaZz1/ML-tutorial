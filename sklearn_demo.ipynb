{
 "cells": [
  {
   "cell_type": "markdown",
   "id": "b23fb354",
   "metadata": {},
   "source": [
    "# ELEG 5760 Tutorial 2 (scikit-learn) \n",
    "- Introduction to Jupyter Notebook and Machine Learning Libraries\n",
    "- How to Use Revelant Machine Learning Algorithm\n",
    "  - Linear Regression\n",
    "  - Binary SVM Classification\n",
    "  \n",
    "## Introduction to Jupyter Notebook and Machine Learning Libraries\n",
    "\n",
    "### Scikit-Learn"
   ]
  },
  {
   "cell_type": "code",
   "execution_count": null,
   "id": "352d4ac0",
   "metadata": {},
   "outputs": [],
   "source": [
    "# install scikit-learn\n",
    "pip install scikit-learn"
   ]
  },
  {
   "cell_type": "code",
   "execution_count": 20,
   "id": "087ac932",
   "metadata": {
    "scrolled": true
   },
   "outputs": [
    {
     "name": "stdout",
     "output_type": "stream",
     "text": [
      "1.1.1 ['/Users/niuyazhe/.local/lib/python3.8/site-packages/sklearn']\n"
     ]
    }
   ],
   "source": [
    "# check scikit-learn installation\n",
    "import sklearn\n",
    "print(sklearn.__version__, sklearn.__path__)"
   ]
  },
  {
   "cell_type": "code",
   "execution_count": 25,
   "id": "1e77b2d1",
   "metadata": {},
   "outputs": [
    {
     "name": "stdout",
     "output_type": "stream",
     "text": [
      "\n"
     ]
    },
    {
     "data": {
      "text/plain": [
       "['ARDRegression',\n",
       " 'BayesianRidge',\n",
       " 'ElasticNet',\n",
       " 'ElasticNetCV',\n",
       " 'GammaRegressor',\n",
       " 'Hinge',\n",
       " 'Huber',\n",
       " 'HuberRegressor',\n",
       " 'Lars',\n",
       " 'LarsCV',\n",
       " 'Lasso',\n",
       " 'LassoCV',\n",
       " 'LassoLars',\n",
       " 'LassoLarsCV',\n",
       " 'LassoLarsIC',\n",
       " 'LinearRegression',\n",
       " 'Log',\n",
       " 'LogisticRegression',\n",
       " 'LogisticRegressionCV',\n",
       " 'ModifiedHuber',\n",
       " 'MultiTaskElasticNet',\n",
       " 'MultiTaskElasticNetCV',\n",
       " 'MultiTaskLasso',\n",
       " 'MultiTaskLassoCV',\n",
       " 'OrthogonalMatchingPursuit',\n",
       " 'OrthogonalMatchingPursuitCV',\n",
       " 'PassiveAggressiveClassifier',\n",
       " 'PassiveAggressiveRegressor',\n",
       " 'Perceptron',\n",
       " 'PoissonRegressor',\n",
       " 'QuantileRegressor',\n",
       " 'RANSACRegressor',\n",
       " 'Ridge',\n",
       " 'RidgeCV',\n",
       " 'RidgeClassifier',\n",
       " 'RidgeClassifierCV',\n",
       " 'SGDClassifier',\n",
       " 'SGDOneClassSVM',\n",
       " 'SGDRegressor',\n",
       " 'SquaredLoss',\n",
       " 'TheilSenRegressor',\n",
       " 'TweedieRegressor',\n",
       " '__all__',\n",
       " '__builtins__',\n",
       " '__cached__',\n",
       " '__doc__',\n",
       " '__file__',\n",
       " '__loader__',\n",
       " '__name__',\n",
       " '__package__',\n",
       " '__path__',\n",
       " '__spec__',\n",
       " '_base',\n",
       " '_bayes',\n",
       " '_cd_fast',\n",
       " '_coordinate_descent',\n",
       " '_glm',\n",
       " '_huber',\n",
       " '_least_angle',\n",
       " '_linear_loss',\n",
       " '_logistic',\n",
       " '_omp',\n",
       " '_passive_aggressive',\n",
       " '_perceptron',\n",
       " '_quantile',\n",
       " '_ransac',\n",
       " '_ridge',\n",
       " '_sag',\n",
       " '_sag_fast',\n",
       " '_sgd_fast',\n",
       " '_stochastic_gradient',\n",
       " '_theil_sen',\n",
       " 'enet_path',\n",
       " 'lars_path',\n",
       " 'lars_path_gram',\n",
       " 'lasso_path',\n",
       " 'orthogonal_mp',\n",
       " 'orthogonal_mp_gram',\n",
       " 'ridge_regression']"
      ]
     },
     "execution_count": 25,
     "metadata": {},
     "output_type": "execute_result"
    }
   ],
   "source": [
    "# how to use the documation of sklearn\n",
    "# https://scikit-learn.org/stable/\n",
    "# how to find information just in CLI\n",
    "dir(sklearn)  # return related methods and attributes\n",
    "# dir(sklearn.linear_model)"
   ]
  },
  {
   "cell_type": "markdown",
   "id": "0e8f0ffc",
   "metadata": {},
   "source": [
    "### Numpy"
   ]
  },
  {
   "cell_type": "code",
   "execution_count": 4,
   "id": "73b8a9cb",
   "metadata": {
    "scrolled": true
   },
   "outputs": [
    {
     "name": "stdout",
     "output_type": "stream",
     "text": [
      "Looking in indexes: https://pypi.douban.com/simple\n",
      "Requirement already satisfied: scikit-learn in ./.local/lib/python3.8/site-packages (1.1.1)\n",
      "Requirement already satisfied: numpy>=1.17.3 in /usr/local/Caskroom/miniconda/base/lib/python3.8/site-packages (from scikit-learn) (1.21.5)\n",
      "Requirement already satisfied: scipy>=1.3.2 in /usr/local/Caskroom/miniconda/base/lib/python3.8/site-packages (from scikit-learn) (1.7.3)\n",
      "Requirement already satisfied: joblib>=1.0.0 in ./.local/lib/python3.8/site-packages (from scikit-learn) (1.0.1)\n",
      "Requirement already satisfied: threadpoolctl>=2.0.0 in ./.local/lib/python3.8/site-packages (from scikit-learn) (3.1.0)\n",
      "Note: you may need to restart the kernel to use updated packages.\n"
     ]
    }
   ],
   "source": [
    "# install numpy\n",
    "pip install numpy"
   ]
  },
  {
   "cell_type": "code",
   "execution_count": 1,
   "id": "aea8b06a",
   "metadata": {},
   "outputs": [
    {
     "name": "stdout",
     "output_type": "stream",
     "text": [
      "1.21.5 ['/usr/local/Caskroom/miniconda/base/lib/python3.8/site-packages/numpy']\n"
     ]
    }
   ],
   "source": [
    "# check numpy installation\n",
    "import numpy as np\n",
    "print(np.__version__, np.__path__)"
   ]
  },
  {
   "cell_type": "code",
   "execution_count": 28,
   "id": "669b0a41",
   "metadata": {},
   "outputs": [
    {
     "name": "stdout",
     "output_type": "stream",
     "text": [
      "[[0 0]\n",
      " [1 1]]\n",
      "(2, 2) int64\n"
     ]
    }
   ],
   "source": [
    "# create an array of specified data\n",
    "x = np.array([[0, 0], [1, 1]])\n",
    "\n",
    "print(x)\n",
    "print(x.shape, x.dtype)"
   ]
  },
  {
   "cell_type": "code",
   "execution_count": 4,
   "id": "488bd107",
   "metadata": {},
   "outputs": [
    {
     "data": {
      "text/plain": [
       "['T',\n",
       " '__abs__',\n",
       " '__add__',\n",
       " '__and__',\n",
       " '__array__',\n",
       " '__array_finalize__',\n",
       " '__array_function__',\n",
       " '__array_interface__',\n",
       " '__array_prepare__',\n",
       " '__array_priority__',\n",
       " '__array_struct__',\n",
       " '__array_ufunc__',\n",
       " '__array_wrap__',\n",
       " '__bool__',\n",
       " '__class__',\n",
       " '__complex__',\n",
       " '__contains__',\n",
       " '__copy__',\n",
       " '__deepcopy__',\n",
       " '__delattr__',\n",
       " '__delitem__',\n",
       " '__dir__',\n",
       " '__divmod__',\n",
       " '__doc__',\n",
       " '__eq__',\n",
       " '__float__',\n",
       " '__floordiv__',\n",
       " '__format__',\n",
       " '__ge__',\n",
       " '__getattribute__',\n",
       " '__getitem__',\n",
       " '__gt__',\n",
       " '__hash__',\n",
       " '__iadd__',\n",
       " '__iand__',\n",
       " '__ifloordiv__',\n",
       " '__ilshift__',\n",
       " '__imatmul__',\n",
       " '__imod__',\n",
       " '__imul__',\n",
       " '__index__',\n",
       " '__init__',\n",
       " '__init_subclass__',\n",
       " '__int__',\n",
       " '__invert__',\n",
       " '__ior__',\n",
       " '__ipow__',\n",
       " '__irshift__',\n",
       " '__isub__',\n",
       " '__iter__',\n",
       " '__itruediv__',\n",
       " '__ixor__',\n",
       " '__le__',\n",
       " '__len__',\n",
       " '__lshift__',\n",
       " '__lt__',\n",
       " '__matmul__',\n",
       " '__mod__',\n",
       " '__mul__',\n",
       " '__ne__',\n",
       " '__neg__',\n",
       " '__new__',\n",
       " '__or__',\n",
       " '__pos__',\n",
       " '__pow__',\n",
       " '__radd__',\n",
       " '__rand__',\n",
       " '__rdivmod__',\n",
       " '__reduce__',\n",
       " '__reduce_ex__',\n",
       " '__repr__',\n",
       " '__rfloordiv__',\n",
       " '__rlshift__',\n",
       " '__rmatmul__',\n",
       " '__rmod__',\n",
       " '__rmul__',\n",
       " '__ror__',\n",
       " '__rpow__',\n",
       " '__rrshift__',\n",
       " '__rshift__',\n",
       " '__rsub__',\n",
       " '__rtruediv__',\n",
       " '__rxor__',\n",
       " '__setattr__',\n",
       " '__setitem__',\n",
       " '__setstate__',\n",
       " '__sizeof__',\n",
       " '__str__',\n",
       " '__sub__',\n",
       " '__subclasshook__',\n",
       " '__truediv__',\n",
       " '__xor__',\n",
       " 'all',\n",
       " 'any',\n",
       " 'argmax',\n",
       " 'argmin',\n",
       " 'argpartition',\n",
       " 'argsort',\n",
       " 'astype',\n",
       " 'base',\n",
       " 'byteswap',\n",
       " 'choose',\n",
       " 'clip',\n",
       " 'compress',\n",
       " 'conj',\n",
       " 'conjugate',\n",
       " 'copy',\n",
       " 'ctypes',\n",
       " 'cumprod',\n",
       " 'cumsum',\n",
       " 'data',\n",
       " 'diagonal',\n",
       " 'dot',\n",
       " 'dtype',\n",
       " 'dump',\n",
       " 'dumps',\n",
       " 'fill',\n",
       " 'flags',\n",
       " 'flat',\n",
       " 'flatten',\n",
       " 'getfield',\n",
       " 'imag',\n",
       " 'item',\n",
       " 'itemset',\n",
       " 'itemsize',\n",
       " 'max',\n",
       " 'mean',\n",
       " 'min',\n",
       " 'nbytes',\n",
       " 'ndim',\n",
       " 'newbyteorder',\n",
       " 'nonzero',\n",
       " 'partition',\n",
       " 'prod',\n",
       " 'ptp',\n",
       " 'put',\n",
       " 'ravel',\n",
       " 'real',\n",
       " 'repeat',\n",
       " 'reshape',\n",
       " 'resize',\n",
       " 'round',\n",
       " 'searchsorted',\n",
       " 'setfield',\n",
       " 'setflags',\n",
       " 'shape',\n",
       " 'size',\n",
       " 'sort',\n",
       " 'squeeze',\n",
       " 'std',\n",
       " 'strides',\n",
       " 'sum',\n",
       " 'swapaxes',\n",
       " 'take',\n",
       " 'tobytes',\n",
       " 'tofile',\n",
       " 'tolist',\n",
       " 'tostring',\n",
       " 'trace',\n",
       " 'transpose',\n",
       " 'var',\n",
       " 'view']"
      ]
     },
     "execution_count": 4,
     "metadata": {},
     "output_type": "execute_result"
    }
   ],
   "source": [
    "dir(x)"
   ]
  },
  {
   "cell_type": "code",
   "execution_count": 29,
   "id": "387d0fbd",
   "metadata": {},
   "outputs": [
    {
     "name": "stdout",
     "output_type": "stream",
     "text": [
      "[[0. 0.]\n",
      " [1. 1.]]\n",
      "float32\n"
     ]
    }
   ],
   "source": [
    "# transform data type\n",
    "x_float32 = x.astype(np.float32)\n",
    "print(x_float32)\n",
    "print(x_float32.dtype)"
   ]
  },
  {
   "cell_type": "code",
   "execution_count": 6,
   "id": "ecc950d5",
   "metadata": {},
   "outputs": [
    {
     "name": "stdout",
     "output_type": "stream",
     "text": [
      "Help on built-in function astype:\n",
      "\n",
      "astype(...) method of numpy.ndarray instance\n",
      "    a.astype(dtype, order='K', casting='unsafe', subok=True, copy=True)\n",
      "    \n",
      "    Copy of the array, cast to a specified type.\n",
      "    \n",
      "    Parameters\n",
      "    ----------\n",
      "    dtype : str or dtype\n",
      "        Typecode or data-type to which the array is cast.\n",
      "    order : {'C', 'F', 'A', 'K'}, optional\n",
      "        Controls the memory layout order of the result.\n",
      "        'C' means C order, 'F' means Fortran order, 'A'\n",
      "        means 'F' order if all the arrays are Fortran contiguous,\n",
      "        'C' order otherwise, and 'K' means as close to the\n",
      "        order the array elements appear in memory as possible.\n",
      "        Default is 'K'.\n",
      "    casting : {'no', 'equiv', 'safe', 'same_kind', 'unsafe'}, optional\n",
      "        Controls what kind of data casting may occur. Defaults to 'unsafe'\n",
      "        for backwards compatibility.\n",
      "    \n",
      "          * 'no' means the data types should not be cast at all.\n",
      "          * 'equiv' means only byte-order changes are allowed.\n",
      "          * 'safe' means only casts which can preserve values are allowed.\n",
      "          * 'same_kind' means only safe casts or casts within a kind,\n",
      "            like float64 to float32, are allowed.\n",
      "          * 'unsafe' means any data conversions may be done.\n",
      "    subok : bool, optional\n",
      "        If True, then sub-classes will be passed-through (default), otherwise\n",
      "        the returned array will be forced to be a base-class array.\n",
      "    copy : bool, optional\n",
      "        By default, astype always returns a newly allocated array. If this\n",
      "        is set to false, and the `dtype`, `order`, and `subok`\n",
      "        requirements are satisfied, the input array is returned instead\n",
      "        of a copy.\n",
      "    \n",
      "    Returns\n",
      "    -------\n",
      "    arr_t : ndarray\n",
      "        Unless `copy` is False and the other conditions for returning the input\n",
      "        array are satisfied (see description for `copy` input parameter), `arr_t`\n",
      "        is a new array of the same shape as the input array, with dtype, order\n",
      "        given by `dtype`, `order`.\n",
      "    \n",
      "    Notes\n",
      "    -----\n",
      "    .. versionchanged:: 1.17.0\n",
      "       Casting between a simple data type and a structured one is possible only\n",
      "       for \"unsafe\" casting.  Casting to multiple fields is allowed, but\n",
      "       casting from multiple fields is not.\n",
      "    \n",
      "    .. versionchanged:: 1.9.0\n",
      "       Casting from numeric to string types in 'safe' casting mode requires\n",
      "       that the string dtype length is long enough to store the max\n",
      "       integer/float value converted.\n",
      "    \n",
      "    Raises\n",
      "    ------\n",
      "    ComplexWarning\n",
      "        When casting from complex to float or int. To avoid this,\n",
      "        one should use ``a.real.astype(t)``.\n",
      "    \n",
      "    Examples\n",
      "    --------\n",
      "    >>> x = np.array([1, 2, 2.5])\n",
      "    >>> x\n",
      "    array([1. ,  2. ,  2.5])\n",
      "    \n",
      "    >>> x.astype(int)\n",
      "    array([1, 2, 2])\n",
      "\n"
     ]
    }
   ],
   "source": [
    "help(x.astype)"
   ]
  },
  {
   "cell_type": "code",
   "execution_count": null,
   "id": "20a251d6",
   "metadata": {},
   "outputs": [],
   "source": [
    "# return variable, function/method and other defined information\n",
    "dir()"
   ]
  },
  {
   "cell_type": "code",
   "execution_count": 34,
   "id": "b9f8769b",
   "metadata": {},
   "outputs": [
    {
     "name": "stdout",
     "output_type": "stream",
     "text": [
      "x_rnd_1:  [[0.49771137 0.69093857 0.73473182]\n",
      " [0.60035205 0.49610249 0.61301078]\n",
      " [0.92246143 0.23364837 0.40243445]\n",
      " [0.47289637 0.95325281 0.288504  ]]\n",
      "x_rnd_2:  [[0.16207826 0.20841028 0.98860125 0.43236281 0.00331779]\n",
      " [0.88419729 0.68372257 0.20320556 0.48245683 0.26530207]\n",
      " [0.2935719  0.34493812 0.57313916 0.35399891 0.08806814]]\n"
     ]
    }
   ],
   "source": [
    "# create random array\n",
    "x_rnd_1 = np.random.random(size=(4, 3))\n",
    "x_rnd_2 = np.random.random(size=(3, 5))\n",
    "print('x_rnd_1: ', x_rnd_1)\n",
    "print('x_rnd_2: ', x_rnd_2)"
   ]
  },
  {
   "cell_type": "code",
   "execution_count": 36,
   "id": "48353da1",
   "metadata": {},
   "outputs": [
    {
     "name": "stdout",
     "output_type": "stream",
     "text": [
      "(4, 5)\n"
     ]
    }
   ],
   "source": [
    "# execute some math computation\n",
    "x_mul = np.matmul(x_rnd_1, x_rnd_2)\n",
    "print(x_mul.shape)"
   ]
  },
  {
   "cell_type": "code",
   "execution_count": 42,
   "id": "f667a2c1",
   "metadata": {},
   "outputs": [
    {
     "name": "stdout",
     "output_type": "stream",
     "text": [
      "1.14 µs ± 32.8 ns per loop (mean ± std. dev. of 7 runs, 1000000 loops each)\n"
     ]
    }
   ],
   "source": [
    "# test speed of an operation\n",
    "%timeit np.matmul(x_rnd_1, x_rnd_2)"
   ]
  },
  {
   "attachments": {
    "lr.png": {
     "image/png": "[encoded data removed]"
    }
   },
   "cell_type": "markdown",
   "id": "367c317f",
   "metadata": {},
   "source": [
    "## How to Use Revelant Machine Learning Algorithm\n",
    "\n",
    "### Linear Regression\n",
    "\n",
    "`LinearRegression` fits a linear model with coefficients  to minimize the residual sum of squares between the observed targets in the dataset, and the targets predicted by the linear approximation. Mathematically it solves a problem of the form:\n",
    "\n",
    "$$\\min_{w} \\Vert Xw-y \\Vert^2_2$$\n",
    "\n",
    "![lr.png](attachment:lr.png)"
   ]
  },
  {
   "cell_type": "code",
   "execution_count": 51,
   "id": "94dafc67",
   "metadata": {},
   "outputs": [
    {
     "data": {
      "text/plain": [
       "array([0.5, 0.5])"
      ]
     },
     "execution_count": 51,
     "metadata": {},
     "output_type": "execute_result"
    }
   ],
   "source": [
    "from sklearn import linear_model\n",
    "# Tutorial: https://scikit-learn.org/stable/modules/linear_model.html#ridge-regression-and-classification\n",
    "# API doc: https://scikit-learn.org/stable/modules/generated/sklearn.linear_model.LinearRegression.html#sklearn.linear_model.LinearRegression\n",
    "reg = linear_model.LinearRegression()\n",
    "reg.fit([[0, 0], [1, 1], [2, 2]], [0, 1, 2])\n",
    "reg.coef_"
   ]
  },
  {
   "cell_type": "code",
   "execution_count": 66,
   "id": "6449204b",
   "metadata": {},
   "outputs": [
    {
     "data": {
      "text/plain": [
       "array([1., 0.])"
      ]
     },
     "execution_count": 66,
     "metadata": {},
     "output_type": "execute_result"
    }
   ],
   "source": [
    "reg.fit([[0, 1], [1, 1], [2, 1]], [0, 1, 2])\n",
    "reg.coef_"
   ]
  },
  {
   "cell_type": "code",
   "execution_count": 69,
   "id": "79def57e",
   "metadata": {},
   "outputs": [
    {
     "data": {
      "text/plain": [
       "array([0.5])"
      ]
     },
     "execution_count": 69,
     "metadata": {},
     "output_type": "execute_result"
    }
   ],
   "source": [
    "# predict\n",
    "reg.predict([[0.5,0.5]])"
   ]
  },
  {
   "cell_type": "code",
   "execution_count": 54,
   "id": "a02025ba",
   "metadata": {
    "scrolled": true
   },
   "outputs": [
    {
     "name": "stdout",
     "output_type": "stream",
     "text": [
      "Help on method fit in module sklearn.linear_model._base:\n",
      "\n",
      "fit(X, y, sample_weight=None) method of sklearn.linear_model._base.LinearRegression instance\n",
      "    Fit linear model.\n",
      "    \n",
      "    Parameters\n",
      "    ----------\n",
      "    X : {array-like, sparse matrix} of shape (n_samples, n_features)\n",
      "        Training data.\n",
      "    \n",
      "    y : array-like of shape (n_samples,) or (n_samples, n_targets)\n",
      "        Target values. Will be cast to X's dtype if necessary.\n",
      "    \n",
      "    sample_weight : array-like of shape (n_samples,), default=None\n",
      "        Individual weights for each sample.\n",
      "    \n",
      "        .. versionadded:: 0.17\n",
      "           parameter *sample_weight* support to LinearRegression.\n",
      "    \n",
      "    Returns\n",
      "    -------\n",
      "    self : object\n",
      "        Fitted Estimator.\n",
      "\n"
     ]
    }
   ],
   "source": [
    "help(reg.fit)"
   ]
  },
  {
   "cell_type": "code",
   "execution_count": 78,
   "id": "8378a041",
   "metadata": {},
   "outputs": [],
   "source": [
    "# complete example for lienar regression\n",
    "\n",
    "def linear_regression():\n",
    "    import matplotlib.pyplot as plt\n",
    "    import numpy as np\n",
    "    from sklearn import datasets, linear_model\n",
    "    from sklearn.metrics import mean_squared_error, r2_score\n",
    "\n",
    "    # Load the diabetes dataset\n",
    "    diabetes_X, diabetes_y = datasets.load_diabetes(return_X_y=True)\n",
    "\n",
    "    # Use only one feature\n",
    "    diabetes_X = diabetes_X[:, np.newaxis, 2]\n",
    "\n",
    "    # Split the data into training/testing sets\n",
    "    diabetes_X_train = diabetes_X[:-20]\n",
    "    diabetes_X_test = diabetes_X[-20:]\n",
    "\n",
    "    # Split the targets into training/testing sets\n",
    "    diabetes_y_train = diabetes_y[:-20]\n",
    "    diabetes_y_test = diabetes_y[-20:]\n",
    "\n",
    "    # Create linear regression object\n",
    "    regr = linear_model.LinearRegression()\n",
    "\n",
    "    # Train the model using the training sets\n",
    "    regr.fit(diabetes_X_train, diabetes_y_train)\n",
    "\n",
    "    # Make predictions using the testing set\n",
    "    diabetes_y_pred = regr.predict(diabetes_X_test)\n",
    "\n",
    "    # The coefficients\n",
    "    print(\"Coefficients: \\n\", regr.coef_)\n",
    "    # The mean squared error\n",
    "    print(\"Mean squared error: %.2f\" % mean_squared_error(diabetes_y_test, diabetes_y_pred))\n",
    "    # The coefficient of determination: 1 is perfect prediction\n",
    "    print(\"Coefficient of determination: %.2f\" % r2_score(diabetes_y_test, diabetes_y_pred))\n",
    "\n",
    "    # Plot outputs\n",
    "    plt.scatter(diabetes_X_test, diabetes_y_test, color=\"black\")\n",
    "    plt.plot(diabetes_X_test, diabetes_y_pred, color=\"blue\", linewidth=3)\n",
    "\n",
    "    plt.xticks(())\n",
    "    plt.yticks(())\n",
    "\n",
    "    plt.show()\n",
    "    plt.savefig('linear_regression.png')"
   ]
  },
  {
   "cell_type": "code",
   "execution_count": 79,
   "id": "ae7e3aa1",
   "metadata": {
    "scrolled": true
   },
   "outputs": [
    {
     "name": "stdout",
     "output_type": "stream",
     "text": [
      "Coefficients: \n",
      " [938.23786125]\n",
      "Mean squared error: 2548.07\n",
      "Coefficient of determination: 0.47\n"
     ]
    },
    {
     "data": {
      "image/png": "[encoded data removed]",
      "text/plain": [
       "<Figure size 432x288 with 1 Axes>"
      ]
     },
     "metadata": {},
     "output_type": "display_data"
    },
    {
     "data": {
      "text/plain": [
       "<Figure size 432x288 with 0 Axes>"
      ]
     },
     "metadata": {},
     "output_type": "display_data"
    }
   ],
   "source": [
    "linear_regression()"
   ]
  },
  {
   "cell_type": "code",
   "execution_count": 80,
   "id": "a4469a9d",
   "metadata": {},
   "outputs": [
    {
     "name": "stdout",
     "output_type": "stream",
     "text": [
      "-rw-r--r--  1 niuyazhe  453037844  1257 Oct 31 13:44 linear_regression.png\r\n"
     ]
    }
   ],
   "source": [
    "ls -l linear_regression.png"
   ]
  },
  {
   "attachments": {
    "svm.png": {
     "image/png": "[encoded data removed]"
    }
   },
   "cell_type": "markdown",
   "id": "22ad1a72",
   "metadata": {},
   "source": [
    "## Binary SVM Classification\n",
    "\n",
    "**Support vector machines (SVMs)** are a set of supervised learning methods used for classification, regression and outliers detection.\n",
    "\n",
    "The **advantages** of support vector machines are:\n",
    "\n",
    "- Effective in high dimensional spaces.\n",
    "\n",
    "- Still effective in cases where number of dimensions is greater than the number of samples.\n",
    "\n",
    "- Uses a subset of training points in the decision function (called support vectors), so it is also memory efficient.\n",
    "\n",
    "- Versatile: different Kernel functions can be specified for the decision function. Common kernels are provided, but it is also possible to specify custom kernels.\n",
    "\n",
    "The **disadvantages** of support vector machines include:\n",
    "\n",
    "- If the number of features is much greater than the number of samples, avoid over-fitting in choosing Kernel functions and regularization term is crucial.\n",
    "\n",
    "- SVMs do not directly provide probability estimates, these are calculated using an expensive five-fold cross-validation (see Scores and probabilities, below).\n",
    "\n",
    "![svm.png](attachment:svm.png)"
   ]
  },
  {
   "cell_type": "code",
   "execution_count": 70,
   "id": "533a7315",
   "metadata": {},
   "outputs": [
    {
     "name": "stdout",
     "output_type": "stream",
     "text": [
      "[1] <class 'numpy.ndarray'>\n"
     ]
    }
   ],
   "source": [
    "from sklearn import svm\n",
    "# Tutorial: https://scikit-learn.org/stable/modules/svm.html#svm-classification\n",
    "# API Doc: https://scikit-learn.org/stable/modules/generated/sklearn.svm.SVC.html#sklearn.svm.SVC\n",
    "clf = svm.SVC()\n",
    "clf.fit([[0, 0], [1, 1]], [0, 1])\n",
    "# clf.fit(np.array([[0, 0], [1, 1]]), np.array([0, 1]))  # numpy data case\n",
    "# clf.predict([2, 2]) error case\n",
    "result = clf.predict([[2, 2]])\n",
    "print(result, type(result))"
   ]
  },
  {
   "cell_type": "code",
   "execution_count": 81,
   "id": "4cbf0864",
   "metadata": {},
   "outputs": [],
   "source": [
    "def svm_classification():\n",
    "    import matplotlib.pyplot as plt\n",
    "    from sklearn import svm\n",
    "    from sklearn.datasets import make_blobs\n",
    "    from sklearn.inspection import DecisionBoundaryDisplay\n",
    "\n",
    "\n",
    "    # we create 40 separable points\n",
    "    X, y = make_blobs(n_samples=40, centers=2, random_state=6)\n",
    "\n",
    "    # fit the model, don't regularize for illustration purposes\n",
    "    clf = svm.SVC(kernel=\"linear\", C=1000)\n",
    "    clf.fit(X, y)\n",
    "\n",
    "    plt.scatter(X[:, 0], X[:, 1], c=y, s=30, cmap=plt.cm.Paired)\n",
    "\n",
    "    # plot the decision function\n",
    "    ax = plt.gca()\n",
    "    DecisionBoundaryDisplay.from_estimator(\n",
    "        clf,\n",
    "        X,\n",
    "        plot_method=\"contour\",\n",
    "        colors=\"k\",\n",
    "        levels=[-1, 0, 1],\n",
    "        alpha=0.5,\n",
    "        linestyles=[\"--\", \"-\", \"--\"],\n",
    "        ax=ax,\n",
    "    )\n",
    "    # plot support vectors\n",
    "    ax.scatter(\n",
    "        clf.support_vectors_[:, 0],\n",
    "        clf.support_vectors_[:, 1],\n",
    "        s=100,\n",
    "        linewidth=1,\n",
    "        facecolors=\"none\",\n",
    "        edgecolors=\"k\",\n",
    "    )\n",
    "    plt.show()"
   ]
  },
  {
   "cell_type": "code",
   "execution_count": 82,
   "id": "280f5dc8",
   "metadata": {
    "scrolled": true
   },
   "outputs": [
    {
     "data": {
      "image/png": "[encoded data removed]",
      "text/plain": [
       "<Figure size 432x288 with 1 Axes>"
      ]
     },
     "metadata": {
      "needs_background": "light"
     },
     "output_type": "display_data"
    }
   ],
   "source": [
    "svm_classification()"
   ]
  },
  {
   "cell_type": "markdown",
   "id": "144f08f3",
   "metadata": {},
   "source": [
    "#### (bonus) how to find the concrete implementation of corresponding algorithm in sklearn"
   ]
  },
  {
   "cell_type": "code",
   "execution_count": 55,
   "id": "64143530",
   "metadata": {},
   "outputs": [
    {
     "name": "stdout",
     "output_type": "stream",
     "text": [
      "['/Users/niuyazhe/.local/lib/python3.8/site-packages/sklearn']\n"
     ]
    }
   ],
   "source": [
    "print(sklearn.__path__)"
   ]
  },
  {
   "cell_type": "code",
   "execution_count": 56,
   "id": "2e6d6d5f",
   "metadata": {},
   "outputs": [
    {
     "name": "stdout",
     "output_type": "stream",
     "text": [
      "\u001b[1m\u001b[36m__check_build\u001b[m\u001b[m/                  \u001b[1m\u001b[36mgaussian_process\u001b[m\u001b[m/\r\n",
      "__init__.py                     \u001b[1m\u001b[36mimpute\u001b[m\u001b[m/\r\n",
      "\u001b[1m\u001b[36m__pycache__\u001b[m\u001b[m/                    \u001b[1m\u001b[36minspection\u001b[m\u001b[m/\r\n",
      "\u001b[1m\u001b[36m_build_utils\u001b[m\u001b[m/                   isotonic.py\r\n",
      "_config.py                      kernel_approximation.py\r\n",
      "_distributor_init.py            kernel_ridge.py\r\n",
      "\u001b[31m_isotonic.cpython-38-darwin.so\u001b[m\u001b[m* \u001b[1m\u001b[36mlinear_model\u001b[m\u001b[m/\r\n",
      "\u001b[1m\u001b[36m_loss\u001b[m\u001b[m/                          \u001b[1m\u001b[36mmanifold\u001b[m\u001b[m/\r\n",
      "_min_dependencies.py            \u001b[1m\u001b[36mmetrics\u001b[m\u001b[m/\r\n",
      "base.py                         \u001b[1m\u001b[36mmixture\u001b[m\u001b[m/\r\n",
      "calibration.py                  \u001b[1m\u001b[36mmodel_selection\u001b[m\u001b[m/\r\n",
      "\u001b[1m\u001b[36mcluster\u001b[m\u001b[m/                        multiclass.py\r\n",
      "\u001b[1m\u001b[36mcompose\u001b[m\u001b[m/                        multioutput.py\r\n",
      "conftest.py                     naive_bayes.py\r\n",
      "\u001b[1m\u001b[36mcovariance\u001b[m\u001b[m/                     \u001b[1m\u001b[36mneighbors\u001b[m\u001b[m/\r\n",
      "\u001b[1m\u001b[36mcross_decomposition\u001b[m\u001b[m/            \u001b[1m\u001b[36mneural_network\u001b[m\u001b[m/\r\n",
      "\u001b[1m\u001b[36mdatasets\u001b[m\u001b[m/                       pipeline.py\r\n",
      "\u001b[1m\u001b[36mdecomposition\u001b[m\u001b[m/                  \u001b[1m\u001b[36mpreprocessing\u001b[m\u001b[m/\r\n",
      "discriminant_analysis.py        random_projection.py\r\n",
      "dummy.py                        \u001b[1m\u001b[36msemi_supervised\u001b[m\u001b[m/\r\n",
      "\u001b[1m\u001b[36mensemble\u001b[m\u001b[m/                       setup.py\r\n",
      "exceptions.py                   \u001b[1m\u001b[36msvm\u001b[m\u001b[m/\r\n",
      "\u001b[1m\u001b[36mexperimental\u001b[m\u001b[m/                   \u001b[1m\u001b[36mtests\u001b[m\u001b[m/\r\n",
      "\u001b[1m\u001b[36mexternals\u001b[m\u001b[m/                      \u001b[1m\u001b[36mtree\u001b[m\u001b[m/\r\n",
      "\u001b[1m\u001b[36mfeature_extraction\u001b[m\u001b[m/             \u001b[1m\u001b[36mutils\u001b[m\u001b[m/\r\n",
      "\u001b[1m\u001b[36mfeature_selection\u001b[m\u001b[m/\r\n"
     ]
    }
   ],
   "source": [
    "ls /Users/niuyazhe/.local/lib/python3.8/site-packages/sklearn"
   ]
  }
 ],
 "metadata": {
  "kernelspec": {
   "display_name": "Python 3 (ipykernel)",
   "language": "python",
   "name": "python3"
  },
  "language_info": {
   "codemirror_mode": {
    "name": "ipython",
    "version": 3
   },
   "file_extension": ".py",
   "mimetype": "text/x-python",
   "name": "python",
   "nbconvert_exporter": "python",
   "pygments_lexer": "ipython3",
   "version": "3.8.5"
  }
 },
 "nbformat": 4,
 "nbformat_minor": 5
}
