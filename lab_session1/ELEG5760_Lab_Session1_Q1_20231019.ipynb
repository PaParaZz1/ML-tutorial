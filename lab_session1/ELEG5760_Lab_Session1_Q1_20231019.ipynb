{
 "cells": [
  {
   "cell_type": "markdown",
   "id": "58b1ee60",
   "metadata": {},
   "source": [
    "## Q0: (0 point) \n",
    "- Please install Anaconda on your own PC or the PC in the lab. (Download link: https://www.anaconda.com/download/ )\n",
    "- Please install related Python3 packages: numpy, scikit-learn, jupyter (pip3 install numpy, scikit-learn, jupyter)"
   ]
  },
  {
   "cell_type": "markdown",
   "id": "08f43afb",
   "metadata": {},
   "source": [
    "## Q1: (100 point) \n",
    "Use NumPy module to define and operation the following operations on matrices and vectors. Please readme the following example and answer sub-questions 1-5 in jupyter notebook."
   ]
  },
  {
   "cell_type": "markdown",
   "id": "0e89020a",
   "metadata": {},
   "source": [
    "### Example for Q1\n",
    "#### Question: \n",
    "- Calculate the matrix multiplication between random matrix A (shape 6x3) and random matrix B (shape 3x5)"
   ]
  },
  {
   "cell_type": "code",
   "execution_count": 1,
   "id": "084bfd20",
   "metadata": {},
   "outputs": [
    {
     "name": "stdout",
     "output_type": "stream",
     "text": [
      "(6, 5)\n",
      "[[0.75221784 0.42074499 0.85206996 0.21011375 0.85974795]\n",
      " [0.79681567 0.61589504 0.50934126 0.16964195 0.69373947]\n",
      " [0.42984565 0.27465248 0.52540723 0.1530376  0.50651616]\n",
      " [1.34601225 1.40758841 1.14489607 0.59261552 1.27085604]\n",
      " [1.01023781 1.4952428  0.64868128 0.60626961 0.79649177]\n",
      " [0.25611351 0.67401721 0.34239024 0.3807691  0.25609778]]\n"
     ]
    }
   ],
   "source": [
    "# Answer to example\n",
    "import numpy as np\n",
    "# 1. Generate random matrix A and B\n",
    "a = np.random.random(size=(6, 3))\n",
    "b = np.random.random(size=(3, 5))\n",
    "# 2. Execute matrix multiplication and assign the result to matrix C\n",
    "c = np.matmul(a, b)\n",
    "# 3. Print the shape and value of C\n",
    "print(c.shape)\n",
    "print(c)"
   ]
  },
  {
   "cell_type": "markdown",
   "id": "be406c00",
   "metadata": {},
   "source": [
    "### (1) Define NumPy Array\n",
    "#### Question: \n",
    "- Use NumPy to define the following matrix A and vector b, then print A and b\n",
    "$$\n",
    " A = \n",
    " \\begin{bmatrix}\n",
    "   1 & 7 & 3 & 3\\\\\n",
    "   4 & 9 & 6 & 1\\\\\n",
    "   2 & 8 & 5 & 4\n",
    "  \\end{bmatrix},\n",
    "   b =\n",
    " \\begin{bmatrix}\n",
    "   7 \\\\\n",
    "   4 \\\\\n",
    "   1 \\\\\n",
    "  \\end{bmatrix}\n",
    "$$\n"
   ]
  },
  {
   "cell_type": "code",
   "execution_count": null,
   "id": "f8b99105",
   "metadata": {},
   "outputs": [],
   "source": [
    "# Answer to sub-question 1"
   ]
  },
  {
   "cell_type": "markdown",
   "id": "e04cbe99",
   "metadata": {},
   "source": [
    "### (2) Basic Mathematical Operation\n",
    "#### Question:  \n",
    "- Mulitply a scalar 3 and substract a scalar 6 to each element in A, then print the new result matrix."
   ]
  },
  {
   "cell_type": "code",
   "execution_count": null,
   "id": "969cdfc4",
   "metadata": {},
   "outputs": [],
   "source": [
    "# Answer to sub-question 2"
   ]
  },
  {
   "cell_type": "markdown",
   "id": "523f56ed",
   "metadata": {},
   "source": [
    "### (3) Broadcast Mechanism\n",
    "#### Question: \n",
    "- Use the broadcast mechanism in NumPy to add b to **each row** of the matrix A, then print the new result matrix."
   ]
  },
  {
   "cell_type": "code",
   "execution_count": null,
   "id": "8cf888d1",
   "metadata": {},
   "outputs": [],
   "source": [
    "# Answer to sub-question 3"
   ]
  },
  {
   "cell_type": "markdown",
   "id": "25291a1d",
   "metadata": {},
   "source": [
    "### (4) Dimension Manipulation Operation\n",
    "#### Question: \n",
    "- (Slice) Get the first and the third column of the Matrix A to construct a new matrix, then print it.\n",
    "- (Split) Split the Matrix A to three row vectors, then print them."
   ]
  },
  {
   "cell_type": "code",
   "execution_count": null,
   "id": "9655de8a",
   "metadata": {},
   "outputs": [],
   "source": [
    "# Answer to sub-question 4"
   ]
  },
  {
   "cell_type": "markdown",
   "id": "e6ef0c10",
   "metadata": {},
   "source": [
    "### (5) Matrix Operation\n",
    "#### Question:\n",
    "- Execute the SVD decompositon to the matrix A, then print the results (i.e. unitary matrix and singular value vector)."
   ]
  },
  {
   "cell_type": "code",
   "execution_count": null,
   "id": "97c2f133",
   "metadata": {},
   "outputs": [],
   "source": [
    "# Answer to sub-question 5"
   ]
  }
 ],
 "metadata": {
  "kernelspec": {
   "display_name": "Python 3 (ipykernel)",
   "language": "python",
   "name": "python3"
  },
  "language_info": {
   "codemirror_mode": {
    "name": "ipython",
    "version": 3
   },
   "file_extension": ".py",
   "mimetype": "text/x-python",
   "name": "python",
   "nbconvert_exporter": "python",
   "pygments_lexer": "ipython3",
   "version": "3.8.5"
  }
 },
 "nbformat": 4,
 "nbformat_minor": 5
}
